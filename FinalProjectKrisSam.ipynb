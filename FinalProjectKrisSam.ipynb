{
 "cells": [
  {
   "cell_type": "markdown",
   "metadata": {},
   "source": [
    "# DATA 119 Final Project\n",
    "\n",
    "### Kris Peng and Sam Leung\n",
    "\n",
    "\n",
    "#### Project A"
   ]
  },
  {
   "cell_type": "code",
   "execution_count": 406,
   "metadata": {},
   "outputs": [],
   "source": [
    "import numpy as np\n",
    "import pandas as pd\n",
    "import plotnine as p9\n",
    "import statsmodels.api as sm \n",
    "import sklearn.metrics as metrics"
   ]
  },
  {
   "cell_type": "code",
   "execution_count": 407,
   "metadata": {},
   "outputs": [
    {
     "data": {
      "text/html": [
       "<div>\n",
       "<style scoped>\n",
       "    .dataframe tbody tr th:only-of-type {\n",
       "        vertical-align: middle;\n",
       "    }\n",
       "\n",
       "    .dataframe tbody tr th {\n",
       "        vertical-align: top;\n",
       "    }\n",
       "\n",
       "    .dataframe thead th {\n",
       "        text-align: right;\n",
       "    }\n",
       "</style>\n",
       "<table border=\"1\" class=\"dataframe\">\n",
       "  <thead>\n",
       "    <tr style=\"text-align: right;\">\n",
       "      <th></th>\n",
       "      <th>id</th>\n",
       "      <th>year</th>\n",
       "      <th>rank</th>\n",
       "      <th>overall_pick</th>\n",
       "      <th>team</th>\n",
       "      <th>player</th>\n",
       "      <th>college</th>\n",
       "      <th>years_active</th>\n",
       "      <th>games</th>\n",
       "      <th>minutes_played</th>\n",
       "      <th>...</th>\n",
       "      <th>3_point_percentage</th>\n",
       "      <th>free_throw_percentage</th>\n",
       "      <th>average_minutes_played</th>\n",
       "      <th>points_per_game</th>\n",
       "      <th>average_total_rebounds</th>\n",
       "      <th>average_assists</th>\n",
       "      <th>win_shares</th>\n",
       "      <th>win_shares_per_48_minutes</th>\n",
       "      <th>box_plus_minus</th>\n",
       "      <th>value_over_replacement</th>\n",
       "    </tr>\n",
       "  </thead>\n",
       "  <tbody>\n",
       "    <tr>\n",
       "      <th>0</th>\n",
       "      <td>1</td>\n",
       "      <td>1989</td>\n",
       "      <td>1</td>\n",
       "      <td>1</td>\n",
       "      <td>SAC</td>\n",
       "      <td>Pervis Ellison</td>\n",
       "      <td>Louisville</td>\n",
       "      <td>11.0</td>\n",
       "      <td>474.0</td>\n",
       "      <td>11593.0</td>\n",
       "      <td>...</td>\n",
       "      <td>0.050</td>\n",
       "      <td>0.689</td>\n",
       "      <td>24.5</td>\n",
       "      <td>9.5</td>\n",
       "      <td>6.7</td>\n",
       "      <td>1.5</td>\n",
       "      <td>21.8</td>\n",
       "      <td>0.090</td>\n",
       "      <td>-0.5</td>\n",
       "      <td>4.4</td>\n",
       "    </tr>\n",
       "    <tr>\n",
       "      <th>1</th>\n",
       "      <td>2</td>\n",
       "      <td>1989</td>\n",
       "      <td>2</td>\n",
       "      <td>2</td>\n",
       "      <td>LAC</td>\n",
       "      <td>Danny Ferry</td>\n",
       "      <td>Duke</td>\n",
       "      <td>13.0</td>\n",
       "      <td>917.0</td>\n",
       "      <td>18133.0</td>\n",
       "      <td>...</td>\n",
       "      <td>0.393</td>\n",
       "      <td>0.840</td>\n",
       "      <td>19.8</td>\n",
       "      <td>7.0</td>\n",
       "      <td>2.8</td>\n",
       "      <td>1.3</td>\n",
       "      <td>34.8</td>\n",
       "      <td>0.092</td>\n",
       "      <td>-0.9</td>\n",
       "      <td>4.9</td>\n",
       "    </tr>\n",
       "    <tr>\n",
       "      <th>2</th>\n",
       "      <td>3</td>\n",
       "      <td>1989</td>\n",
       "      <td>3</td>\n",
       "      <td>3</td>\n",
       "      <td>SAS</td>\n",
       "      <td>Sean Elliott</td>\n",
       "      <td>Arizona</td>\n",
       "      <td>12.0</td>\n",
       "      <td>742.0</td>\n",
       "      <td>24502.0</td>\n",
       "      <td>...</td>\n",
       "      <td>0.375</td>\n",
       "      <td>0.799</td>\n",
       "      <td>33.0</td>\n",
       "      <td>14.2</td>\n",
       "      <td>4.3</td>\n",
       "      <td>2.6</td>\n",
       "      <td>55.7</td>\n",
       "      <td>0.109</td>\n",
       "      <td>0.2</td>\n",
       "      <td>13.5</td>\n",
       "    </tr>\n",
       "    <tr>\n",
       "      <th>3</th>\n",
       "      <td>4</td>\n",
       "      <td>1989</td>\n",
       "      <td>4</td>\n",
       "      <td>4</td>\n",
       "      <td>MIA</td>\n",
       "      <td>Glen Rice</td>\n",
       "      <td>Michigan</td>\n",
       "      <td>15.0</td>\n",
       "      <td>1000.0</td>\n",
       "      <td>34985.0</td>\n",
       "      <td>...</td>\n",
       "      <td>0.400</td>\n",
       "      <td>0.846</td>\n",
       "      <td>35.0</td>\n",
       "      <td>18.3</td>\n",
       "      <td>4.4</td>\n",
       "      <td>2.1</td>\n",
       "      <td>88.7</td>\n",
       "      <td>0.122</td>\n",
       "      <td>0.8</td>\n",
       "      <td>24.9</td>\n",
       "    </tr>\n",
       "    <tr>\n",
       "      <th>4</th>\n",
       "      <td>5</td>\n",
       "      <td>1989</td>\n",
       "      <td>5</td>\n",
       "      <td>5</td>\n",
       "      <td>CHH</td>\n",
       "      <td>J.R. Reid</td>\n",
       "      <td>UNC</td>\n",
       "      <td>11.0</td>\n",
       "      <td>672.0</td>\n",
       "      <td>15370.0</td>\n",
       "      <td>...</td>\n",
       "      <td>0.135</td>\n",
       "      <td>0.716</td>\n",
       "      <td>22.9</td>\n",
       "      <td>8.5</td>\n",
       "      <td>5.0</td>\n",
       "      <td>1.0</td>\n",
       "      <td>22.5</td>\n",
       "      <td>0.070</td>\n",
       "      <td>-2.9</td>\n",
       "      <td>-3.7</td>\n",
       "    </tr>\n",
       "  </tbody>\n",
       "</table>\n",
       "<p>5 rows × 24 columns</p>\n",
       "</div>"
      ],
      "text/plain": [
       "   id  year  rank  overall_pick team          player     college  \\\n",
       "0   1  1989     1             1  SAC  Pervis Ellison  Louisville   \n",
       "1   2  1989     2             2  LAC     Danny Ferry        Duke   \n",
       "2   3  1989     3             3  SAS    Sean Elliott     Arizona   \n",
       "3   4  1989     4             4  MIA       Glen Rice    Michigan   \n",
       "4   5  1989     5             5  CHH       J.R. Reid         UNC   \n",
       "\n",
       "   years_active   games  minutes_played  ...  3_point_percentage  \\\n",
       "0          11.0   474.0         11593.0  ...               0.050   \n",
       "1          13.0   917.0         18133.0  ...               0.393   \n",
       "2          12.0   742.0         24502.0  ...               0.375   \n",
       "3          15.0  1000.0         34985.0  ...               0.400   \n",
       "4          11.0   672.0         15370.0  ...               0.135   \n",
       "\n",
       "   free_throw_percentage  average_minutes_played  points_per_game  \\\n",
       "0                  0.689                    24.5              9.5   \n",
       "1                  0.840                    19.8              7.0   \n",
       "2                  0.799                    33.0             14.2   \n",
       "3                  0.846                    35.0             18.3   \n",
       "4                  0.716                    22.9              8.5   \n",
       "\n",
       "   average_total_rebounds  average_assists  win_shares  \\\n",
       "0                     6.7              1.5        21.8   \n",
       "1                     2.8              1.3        34.8   \n",
       "2                     4.3              2.6        55.7   \n",
       "3                     4.4              2.1        88.7   \n",
       "4                     5.0              1.0        22.5   \n",
       "\n",
       "   win_shares_per_48_minutes  box_plus_minus  value_over_replacement  \n",
       "0                      0.090            -0.5                     4.4  \n",
       "1                      0.092            -0.9                     4.9  \n",
       "2                      0.109             0.2                    13.5  \n",
       "3                      0.122             0.8                    24.9  \n",
       "4                      0.070            -2.9                    -3.7  \n",
       "\n",
       "[5 rows x 24 columns]"
      ]
     },
     "execution_count": 407,
     "metadata": {},
     "output_type": "execute_result"
    }
   ],
   "source": [
    "df = pd.read_csv(\"nbaplayersdraft.csv\") \n",
    "pd.set_option('display.max_rows', None)\n",
    "df.head(5)\n",
    "\n"
   ]
  },
  {
   "cell_type": "code",
   "execution_count": 408,
   "metadata": {},
   "outputs": [
    {
     "data": {
      "text/plain": [
       "Index(['id', 'year', 'rank', 'overall_pick', 'team', 'player', 'college',\n",
       "       'years_active', 'games', 'minutes_played', 'points', 'total_rebounds',\n",
       "       'assists', 'field_goal_percentage', '3_point_percentage',\n",
       "       'free_throw_percentage', 'average_minutes_played', 'points_per_game',\n",
       "       'average_total_rebounds', 'average_assists', 'win_shares',\n",
       "       'win_shares_per_48_minutes', 'box_plus_minus',\n",
       "       'value_over_replacement'],\n",
       "      dtype='object')"
      ]
     },
     "execution_count": 408,
     "metadata": {},
     "output_type": "execute_result"
    }
   ],
   "source": [
    "df.columns"
   ]
  },
  {
   "cell_type": "code",
   "execution_count": 409,
   "metadata": {},
   "outputs": [
    {
     "data": {
      "text/plain": [
       "count               1922\n",
       "unique              1916\n",
       "top       Justin Jackson\n",
       "freq                   2\n",
       "Name: player, dtype: object"
      ]
     },
     "execution_count": 409,
     "metadata": {},
     "output_type": "execute_result"
    }
   ],
   "source": [
    "df['player'].describe()\n"
   ]
  },
  {
   "cell_type": "code",
   "execution_count": 410,
   "metadata": {},
   "outputs": [],
   "source": [
    "#handle players that have the same names\n",
    "df.iloc[1636,5] = \"Justin Jackson 1\"\n",
    "df.iloc[1724,5] = \"Justin Jackson 2\"\n",
    "df.iloc[72,5] = \"Dee Brown 1\"\n",
    "df.iloc[1007,5] = \"Dee Brown 2\"\n",
    "\n",
    "df.iloc[12,5] = \"Michael Smith 1\"\n",
    "df.iloc[304,5] = \"Michael Smith 2\"\n",
    "\n",
    "df.iloc[547,5] = \"Corey Brewer 1\"\n",
    "df.iloc[1028,5] = \"Corey Brewer 2\"\n",
    "df.iloc[983,5] = \"Marcus Williams 1\"\n",
    "df.iloc[1054,5] = \"Marcus Williams 2\"\n",
    "\n",
    "df.iloc[1184,5] = \"Marcus Thornton 1\"\n",
    "df.iloc[1546,5] = \"Marcus Thornton 2\""
   ]
  },
  {
   "cell_type": "code",
   "execution_count": 471,
   "metadata": {},
   "outputs": [
    {
     "name": "stdout",
     "output_type": "stream",
     "text": [
      "count               1669\n",
      "unique              1669\n",
      "top       Pervis Ellison\n",
      "freq                   1\n",
      "Name: player, dtype: object\n",
      "There is no longer duplicate player names\n"
     ]
    }
   ],
   "source": [
    "print(df['player'].describe())\n",
    "print(\"There is no longer duplicate player names\")\n"
   ]
  },
  {
   "cell_type": "code",
   "execution_count": 472,
   "metadata": {},
   "outputs": [
    {
     "name": "stdout",
     "output_type": "stream",
     "text": [
      "count    1669.000000\n",
      "mean        6.332534\n",
      "std         4.656321\n",
      "min         1.000000\n",
      "25%         2.000000\n",
      "50%         5.000000\n",
      "75%        10.000000\n",
      "max        22.000000\n",
      "Name: years_active, dtype: float64\n",
      "The percent of missing values is  0.0 %\n"
     ]
    }
   ],
   "source": [
    "print(df['years_active'].describe())\n",
    "print(\"The percent of missing values is \", df['years_active'].isna().sum() / df['years_active'].count() * 100, \"%\")\n"
   ]
  },
  {
   "cell_type": "code",
   "execution_count": 413,
   "metadata": {},
   "outputs": [],
   "source": [
    "#df[df['years_active'].isna() == True]\n",
    "#player0 = [\"Sergio Llull\", \"Fran Vázquez\", \"Petteri Koponen\", \"Dejan Bodiroga\", \"Vasilije Micić\", \"Satnam Singh\", \"Arsalan Kazemi\",\"Frédéric Weis\", \"Doron Sheffer\", \"Axel Hervelle\", \"Robertas Javtokas\"\n",
    "           #,\"Milos Vujanic\", \"Sani Bečirovič\", \"Sofoklis Schortsanitis\", \"Erazem Lorbek\", \"Georgios Printezis\", \"Ante Tomić\", \"Bojan Dubljević\", \"Alessandro Gentile\", \"Artūras Gudaitis\", \"Ádám Hanga\", \n",
    "           #\"Vanja Marinković\", \"Reggie Cross\", \"Michael Cutright\", \"Reggie Turner\"]\n",
    "\n",
    "#for i in player0:\n",
    "    #df[df['player'] == i] = df[df['player'] == i].fillna(0)\n",
    "\n",
    " "
   ]
  },
  {
   "cell_type": "code",
   "execution_count": 414,
   "metadata": {},
   "outputs": [
    {
     "data": {
      "text/plain": [
       "Index([], dtype='int64')"
      ]
     },
     "execution_count": 414,
     "metadata": {},
     "output_type": "execute_result"
    }
   ],
   "source": [
    "#df[df['years_active'].isna() == True].iloc[:,5]\n",
    "nanDelete = df[df['years_active'].isna() == True].index\n",
    "\n",
    "    \n",
    "df = df.drop(labels = nanDelete, axis=0)\n",
    "\n",
    "df[df['years_active'].isna() == True].index"
   ]
  },
  {
   "cell_type": "code",
   "execution_count": 415,
   "metadata": {},
   "outputs": [],
   "source": [
    "#for i in df[df['years_active'].isna() == True].iloc[:,5]:\n",
    "#    df[df['player'] == i] = df[df['player'] == i].fillna(0)"
   ]
  },
  {
   "cell_type": "code",
   "execution_count": 416,
   "metadata": {},
   "outputs": [
    {
     "data": {
      "text/html": [
       "<div>\n",
       "<style scoped>\n",
       "    .dataframe tbody tr th:only-of-type {\n",
       "        vertical-align: middle;\n",
       "    }\n",
       "\n",
       "    .dataframe tbody tr th {\n",
       "        vertical-align: top;\n",
       "    }\n",
       "\n",
       "    .dataframe thead th {\n",
       "        text-align: right;\n",
       "    }\n",
       "</style>\n",
       "<table border=\"1\" class=\"dataframe\">\n",
       "  <thead>\n",
       "    <tr style=\"text-align: right;\">\n",
       "      <th></th>\n",
       "      <th>id</th>\n",
       "      <th>year</th>\n",
       "      <th>rank</th>\n",
       "      <th>overall_pick</th>\n",
       "      <th>team</th>\n",
       "      <th>player</th>\n",
       "      <th>college</th>\n",
       "      <th>years_active</th>\n",
       "      <th>games</th>\n",
       "      <th>minutes_played</th>\n",
       "      <th>...</th>\n",
       "      <th>3_point_percentage</th>\n",
       "      <th>free_throw_percentage</th>\n",
       "      <th>average_minutes_played</th>\n",
       "      <th>points_per_game</th>\n",
       "      <th>average_total_rebounds</th>\n",
       "      <th>average_assists</th>\n",
       "      <th>win_shares</th>\n",
       "      <th>win_shares_per_48_minutes</th>\n",
       "      <th>box_plus_minus</th>\n",
       "      <th>value_over_replacement</th>\n",
       "    </tr>\n",
       "  </thead>\n",
       "  <tbody>\n",
       "  </tbody>\n",
       "</table>\n",
       "<p>0 rows × 24 columns</p>\n",
       "</div>"
      ],
      "text/plain": [
       "Empty DataFrame\n",
       "Columns: [id, year, rank, overall_pick, team, player, college, years_active, games, minutes_played, points, total_rebounds, assists, field_goal_percentage, 3_point_percentage, free_throw_percentage, average_minutes_played, points_per_game, average_total_rebounds, average_assists, win_shares, win_shares_per_48_minutes, box_plus_minus, value_over_replacement]\n",
       "Index: []\n",
       "\n",
       "[0 rows x 24 columns]"
      ]
     },
     "execution_count": 416,
     "metadata": {},
     "output_type": "execute_result"
    }
   ],
   "source": [
    "df[df['years_active'].isna() == True]"
   ]
  },
  {
   "cell_type": "code",
   "execution_count": 417,
   "metadata": {},
   "outputs": [
    {
     "name": "stdout",
     "output_type": "stream",
     "text": [
      "count    1669.000000\n",
      "mean        6.332534\n",
      "std         4.656321\n",
      "min         1.000000\n",
      "25%         2.000000\n",
      "50%         5.000000\n",
      "75%        10.000000\n",
      "max        22.000000\n",
      "Name: years_active, dtype: float64\n",
      "The percent of missing values is  0.0 %\n"
     ]
    }
   ],
   "source": [
    "print(df['years_active'].describe())\n",
    "print(\"The percent of missing values is \", df['years_active'].isna().sum() / df['years_active'].count() * 100, \"%\")"
   ]
  },
  {
   "cell_type": "code",
   "execution_count": 418,
   "metadata": {},
   "outputs": [
    {
     "name": "stdout",
     "output_type": "stream",
     "text": [
      "count    1669.000000\n",
      "mean      348.042540\n",
      "std       324.897567\n",
      "min         1.000000\n",
      "25%        72.000000\n",
      "50%       235.000000\n",
      "75%       584.000000\n",
      "max      1541.000000\n",
      "Name: games, dtype: float64\n",
      "The percent of missing values is  0.0 %\n"
     ]
    }
   ],
   "source": [
    "print(df['games'].describe())\n",
    "print(\"The percent of missing values is \", df['years_active'].isna().sum() / df['years_active'].count() * 100, \"%\")"
   ]
  },
  {
   "cell_type": "code",
   "execution_count": 419,
   "metadata": {},
   "outputs": [
    {
     "name": "stdout",
     "output_type": "stream",
     "text": [
      "count     1669.000000\n",
      "mean      8399.055722\n",
      "std       9845.871529\n",
      "min          0.000000\n",
      "25%        838.000000\n",
      "50%       4204.000000\n",
      "75%      13246.000000\n",
      "max      52139.000000\n",
      "Name: minutes_played, dtype: float64\n",
      "The percent of missing values is  0.0 %\n"
     ]
    }
   ],
   "source": [
    "print(df['minutes_played'].describe())\n",
    "print(\"The percent of missing values is \", df['minutes_played'].isna().sum() / df['minutes_played'].count() * 100, \"%\")"
   ]
  },
  {
   "cell_type": "code",
   "execution_count": 420,
   "metadata": {},
   "outputs": [
    {
     "name": "stdout",
     "output_type": "stream",
     "text": [
      "count     1669.000000\n",
      "mean      3580.413421\n",
      "std       4826.142847\n",
      "min          0.000000\n",
      "25%        265.000000\n",
      "50%       1552.000000\n",
      "75%       5150.000000\n",
      "max      37062.000000\n",
      "Name: points, dtype: float64\n",
      "The percent of missing values is  0.0 %\n"
     ]
    }
   ],
   "source": [
    "print(df['points'].describe())\n",
    "print(\"The percent of missing values is \", df['points'].isna().sum() / df['points'].count() * 100, \"%\")"
   ]
  },
  {
   "cell_type": "code",
   "execution_count": 421,
   "metadata": {},
   "outputs": [
    {
     "name": "stdout",
     "output_type": "stream",
     "text": [
      "count     1669.000000\n",
      "mean      1497.009587\n",
      "std       2003.686388\n",
      "min          0.000000\n",
      "25%        128.000000\n",
      "50%        656.000000\n",
      "75%       2139.000000\n",
      "max      15091.000000\n",
      "Name: total_rebounds, dtype: float64\n",
      "The percent of missing values is  0.0 %\n"
     ]
    }
   ],
   "source": [
    "print(df['total_rebounds'].describe())\n",
    "print(\"The percent of missing values is \", df['total_rebounds'].isna().sum() / df['total_rebounds'].count() * 100, \"%\")"
   ]
  },
  {
   "cell_type": "code",
   "execution_count": 422,
   "metadata": {},
   "outputs": [
    {
     "name": "stdout",
     "output_type": "stream",
     "text": [
      "count     1669.000000\n",
      "mean       774.300779\n",
      "std       1284.602969\n",
      "min          0.000000\n",
      "25%         46.000000\n",
      "50%        257.000000\n",
      "75%        910.000000\n",
      "max      12091.000000\n",
      "Name: assists, dtype: float64\n",
      "The percent of missing values is  0.0 %\n"
     ]
    }
   ],
   "source": [
    "print(df['assists'].describe())\n",
    "print(\"The percent of missing values is \", df['assists'].isna().sum() / df['assists'].count() * 100, \"%\")"
   ]
  },
  {
   "cell_type": "code",
   "execution_count": 423,
   "metadata": {},
   "outputs": [
    {
     "name": "stdout",
     "output_type": "stream",
     "text": [
      "count    1665.000000\n",
      "mean        0.436568\n",
      "std         0.083846\n",
      "min         0.000000\n",
      "25%         0.404000\n",
      "50%         0.435000\n",
      "75%         0.474000\n",
      "max         1.000000\n",
      "Name: field_goal_percentage, dtype: float64\n",
      "The percent of missing values is  0.24024024024024024 %\n"
     ]
    }
   ],
   "source": [
    "print(df['field_goal_percentage'].describe())\n",
    "print(\"The percent of missing values is \", df['field_goal_percentage'].isna().sum() / df['field_goal_percentage'].count() * 100, \"%\")"
   ]
  },
  {
   "cell_type": "code",
   "execution_count": 456,
   "metadata": {},
   "outputs": [],
   "source": [
    "df[df['field_goal_percentage'].isna() == True]\n",
    "df[df['field_goal_percentage'].isna() == True] = df[df['field_goal_percentage'].isna() == True].fillna(0)"
   ]
  },
  {
   "cell_type": "code",
   "execution_count": 474,
   "metadata": {},
   "outputs": [
    {
     "name": "stdout",
     "output_type": "stream",
     "text": [
      "count    1669.000000\n",
      "mean        0.435521\n",
      "std         0.086425\n",
      "min         0.000000\n",
      "25%         0.404000\n",
      "50%         0.435000\n",
      "75%         0.474000\n",
      "max         1.000000\n",
      "Name: field_goal_percentage, dtype: float64\n",
      "The percent of missing values is  0.0 %\n"
     ]
    }
   ],
   "source": [
    "print(df['field_goal_percentage'].describe())\n",
    "print(\"The percent of missing values is \", df['field_goal_percentage'].isna().sum() / df['field_goal_percentage'].count() * 100, \"%\")"
   ]
  },
  {
   "cell_type": "code",
   "execution_count": 438,
   "metadata": {},
   "outputs": [
    {
     "name": "stdout",
     "output_type": "stream",
     "text": [
      "count    1545.000000\n",
      "mean        0.272405\n",
      "std         0.128339\n",
      "min         0.000000\n",
      "25%         0.222000\n",
      "50%         0.317000\n",
      "75%         0.356000\n",
      "max         1.000000\n",
      "Name: 3_point_percentage, dtype: float64\n",
      "The percent of missing values is  8.025889967637541 %\n"
     ]
    }
   ],
   "source": [
    "print(df['3_point_percentage'].describe())\n",
    "print(\"The percent of missing values is \", df['3_point_percentage'].isna().sum() / df['3_point_percentage'].count() * 100, \"%\")"
   ]
  },
  {
   "cell_type": "code",
   "execution_count": 458,
   "metadata": {},
   "outputs": [],
   "source": [
    "df[df['3_point_percentage'].isna() == True] = df[df['3_point_percentage'].isna() == True].fillna(0)\n"
   ]
  },
  {
   "cell_type": "code",
   "execution_count": 475,
   "metadata": {},
   "outputs": [
    {
     "name": "stdout",
     "output_type": "stream",
     "text": [
      "count    1669.000000\n",
      "mean        0.252166\n",
      "std         0.142664\n",
      "min         0.000000\n",
      "25%         0.167000\n",
      "50%         0.308000\n",
      "75%         0.353000\n",
      "max         1.000000\n",
      "Name: 3_point_percentage, dtype: float64\n",
      "The percent of missing values is  0.0 %\n"
     ]
    }
   ],
   "source": [
    "print(df['3_point_percentage'].describe())\n",
    "print(\"The percent of missing values is \", df['3_point_percentage'].isna().sum() / df['3_point_percentage'].count() * 100, \"%\")"
   ]
  },
  {
   "cell_type": "code",
   "execution_count": 460,
   "metadata": {},
   "outputs": [
    {
     "name": "stdout",
     "output_type": "stream",
     "text": [
      "count    1653.000000\n",
      "mean        0.708152\n",
      "std         0.141651\n",
      "min         0.000000\n",
      "25%         0.656000\n",
      "50%         0.733000\n",
      "75%         0.796000\n",
      "max         1.000000\n",
      "Name: free_throw_percentage, dtype: float64\n",
      "The percent of missing values is  0.9679370840895343 %\n"
     ]
    }
   ],
   "source": [
    "print(df['free_throw_percentage'].describe())\n",
    "print(\"The percent of missing values is \", df['free_throw_percentage'].isna().sum() / df['free_throw_percentage'].count() * 100, \"%\")"
   ]
  },
  {
   "cell_type": "code",
   "execution_count": 461,
   "metadata": {},
   "outputs": [],
   "source": [
    "df[df['free_throw_percentage'].isna() == True] = df[df['free_throw_percentage'].isna() == True].fillna(0)\n"
   ]
  },
  {
   "cell_type": "code",
   "execution_count": 476,
   "metadata": {},
   "outputs": [
    {
     "name": "stdout",
     "output_type": "stream",
     "text": [
      "count    1669.000000\n",
      "mean        0.701364\n",
      "std         0.156961\n",
      "min         0.000000\n",
      "25%         0.652000\n",
      "50%         0.732000\n",
      "75%         0.795000\n",
      "max         1.000000\n",
      "Name: free_throw_percentage, dtype: float64\n",
      "The percent of missing values is  0.0 %\n"
     ]
    }
   ],
   "source": [
    "print(df['free_throw_percentage'].describe())\n",
    "print(\"The percent of missing values is \", df['free_throw_percentage'].isna().sum() / df['free_throw_percentage'].count() * 100, \"%\")"
   ]
  },
  {
   "cell_type": "code",
   "execution_count": 463,
   "metadata": {},
   "outputs": [
    {
     "name": "stdout",
     "output_type": "stream",
     "text": [
      "count    1669.000000\n",
      "mean       18.134032\n",
      "std         8.707656\n",
      "min         0.000000\n",
      "25%        11.000000\n",
      "50%        17.700000\n",
      "75%        24.800000\n",
      "max        41.100000\n",
      "Name: average_minutes_played, dtype: float64\n",
      "The percent of missing values is  0.0 %\n"
     ]
    }
   ],
   "source": [
    "print(df['average_minutes_played'].describe())\n",
    "print(\"The percent of missing values is \", df['average_minutes_played'].isna().sum() / df['average_minutes_played'].count() * 100, \"%\")"
   ]
  },
  {
   "cell_type": "code",
   "execution_count": 464,
   "metadata": {},
   "outputs": [
    {
     "name": "stdout",
     "output_type": "stream",
     "text": [
      "count    1669.000000\n",
      "mean        7.275734\n",
      "std         4.969343\n",
      "min         0.000000\n",
      "25%         3.400000\n",
      "50%         6.200000\n",
      "75%        10.000000\n",
      "max        27.200000\n",
      "Name: points_per_game, dtype: float64\n",
      "The percent of missing values is  0.0 %\n"
     ]
    }
   ],
   "source": [
    "print(df['points_per_game'].describe())\n",
    "print(\"The percent of missing values is \", df['points_per_game'].isna().sum() / df['points_per_game'].count() * 100, \"%\")"
   ]
  },
  {
   "cell_type": "code",
   "execution_count": 465,
   "metadata": {},
   "outputs": [
    {
     "name": "stdout",
     "output_type": "stream",
     "text": [
      "count    1669.000000\n",
      "mean        3.194368\n",
      "std         2.083895\n",
      "min         0.000000\n",
      "25%         1.700000\n",
      "50%         2.800000\n",
      "75%         4.200000\n",
      "max        13.300000\n",
      "Name: average_total_rebounds, dtype: float64\n",
      "The percent of missing values is  0.0 %\n"
     ]
    }
   ],
   "source": [
    "print(df['average_total_rebounds'].describe())\n",
    "print(\"The percent of missing values is \", df['average_total_rebounds'].isna().sum() / df['average_total_rebounds'].count() * 100, \"%\")"
   ]
  },
  {
   "cell_type": "code",
   "execution_count": 466,
   "metadata": {},
   "outputs": [
    {
     "name": "stdout",
     "output_type": "stream",
     "text": [
      "count    1669.000000\n",
      "mean        1.550749\n",
      "std         1.488536\n",
      "min         0.000000\n",
      "25%         0.500000\n",
      "50%         1.100000\n",
      "75%         2.100000\n",
      "max         9.500000\n",
      "Name: average_assists, dtype: float64\n",
      "The percent of missing values is  0.0 %\n"
     ]
    }
   ],
   "source": [
    "print(df['average_assists'].describe())\n",
    "print(\"The percent of missing values is \", df['average_assists'].isna().sum() / df['average_assists'].count() * 100, \"%\")"
   ]
  },
  {
   "cell_type": "code",
   "execution_count": 467,
   "metadata": {},
   "outputs": [
    {
     "name": "stdout",
     "output_type": "stream",
     "text": [
      "count    1669.000000\n",
      "mean       17.873697\n",
      "std        27.989805\n",
      "min        -1.700000\n",
      "25%         0.400000\n",
      "50%         5.300000\n",
      "75%        24.500000\n",
      "max       249.500000\n",
      "Name: win_shares, dtype: float64\n",
      "The percent of missing values is  0.0 %\n"
     ]
    }
   ],
   "source": [
    "print(df['win_shares'].describe())\n",
    "print(\"The percent of missing values is \", df['win_shares'].isna().sum() / df['win_shares'].count() * 100, \"%\")"
   ]
  },
  {
   "cell_type": "code",
   "execution_count": 468,
   "metadata": {},
   "outputs": [
    {
     "name": "stdout",
     "output_type": "stream",
     "text": [
      "count    1669.000000\n",
      "mean        0.061654\n",
      "std         0.094451\n",
      "min        -1.264000\n",
      "25%         0.030000\n",
      "50%         0.069000\n",
      "75%         0.104000\n",
      "max         1.442000\n",
      "Name: win_shares_per_48_minutes, dtype: float64\n",
      "The percent of missing values is  0.0 %\n"
     ]
    }
   ],
   "source": [
    "print(df['win_shares_per_48_minutes'].describe())\n",
    "print(\"The percent of missing values is \", df['win_shares_per_48_minutes'].isna().sum() / df['win_shares_per_48_minutes'].count() * 100, \"%\")"
   ]
  },
  {
   "cell_type": "code",
   "execution_count": 469,
   "metadata": {},
   "outputs": [
    {
     "name": "stdout",
     "output_type": "stream",
     "text": [
      "count    1669.000000\n",
      "mean       -2.309886\n",
      "std         4.142547\n",
      "min       -52.000000\n",
      "25%        -3.900000\n",
      "50%        -2.000000\n",
      "75%        -0.300000\n",
      "max        51.100000\n",
      "Name: box_plus_minus, dtype: float64\n",
      "The percent of missing values is  0.0 %\n"
     ]
    }
   ],
   "source": [
    "print(df['box_plus_minus'].describe())\n",
    "print(\"The percent of missing values is \", df['box_plus_minus'].isna().sum() / df['box_plus_minus'].count() * 100, \"%\")"
   ]
  },
  {
   "cell_type": "code",
   "execution_count": 470,
   "metadata": {},
   "outputs": [
    {
     "name": "stdout",
     "output_type": "stream",
     "text": [
      "count    1669.000000\n",
      "mean        4.403176\n",
      "std        11.461729\n",
      "min        -8.500000\n",
      "25%        -0.400000\n",
      "50%         0.000000\n",
      "75%         4.500000\n",
      "max       142.600000\n",
      "Name: value_over_replacement, dtype: float64\n",
      "The percent of missing values is  0.0 %\n"
     ]
    }
   ],
   "source": [
    "print(df['value_over_replacement'].describe())\n",
    "print(\"The percent of missing values is \", df['value_over_replacement'].isna().sum() / df['value_over_replacement'].count() * 100, \"%\")"
   ]
  }
 ],
 "metadata": {
  "kernelspec": {
   "display_name": "Python 3",
   "language": "python",
   "name": "python3"
  },
  "language_info": {
   "codemirror_mode": {
    "name": "ipython",
    "version": 3
   },
   "file_extension": ".py",
   "mimetype": "text/x-python",
   "name": "python",
   "nbconvert_exporter": "python",
   "pygments_lexer": "ipython3",
   "version": "3.9.9"
  }
 },
 "nbformat": 4,
 "nbformat_minor": 2
}
